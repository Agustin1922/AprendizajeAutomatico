{
 "cells": [
  {
   "cell_type": "markdown",
   "id": "5d21abfd-7357-4e48-b2ca-49375ccaeea9",
   "metadata": {},
   "source": [
    "# Importacion de librerias"
   ]
  },
  {
   "cell_type": "code",
   "execution_count": 1,
   "id": "1fa9ee8b-3f17-45ad-b134-0bdcaa414476",
   "metadata": {},
   "outputs": [],
   "source": [
    "import pandas as pd\n",
    "import numpy as np\n",
    "import matplotlib.pyplot as plt\n",
    "import seaborn as sns\n",
    "\n",
    "from sklearn.model_selection import train_test_split\n",
    "from sklearn.linear_model import LinearRegression\n",
    "from sklearn.metrics import mean_squared_error, mean_absolute_error, r2_score\n"
   ]
  },
  {
   "cell_type": "code",
   "execution_count": 17,
   "id": "25a00b6c-5a6b-43d8-a77f-45ac1f1371f6",
   "metadata": {},
   "outputs": [],
   "source": [
    "df = pd.read_csv(\"dataset_regresion_multiple.csv\")"
   ]
  },
  {
   "cell_type": "code",
   "execution_count": 19,
   "id": "2e36ddac-79fe-49d3-a665-c963cde413e8",
   "metadata": {},
   "outputs": [
    {
     "data": {
      "text/html": [
       "<div>\n",
       "<style scoped>\n",
       "    .dataframe tbody tr th:only-of-type {\n",
       "        vertical-align: middle;\n",
       "    }\n",
       "\n",
       "    .dataframe tbody tr th {\n",
       "        vertical-align: top;\n",
       "    }\n",
       "\n",
       "    .dataframe thead th {\n",
       "        text-align: right;\n",
       "    }\n",
       "</style>\n",
       "<table border=\"1\" class=\"dataframe\">\n",
       "  <thead>\n",
       "    <tr style=\"text-align: right;\">\n",
       "      <th></th>\n",
       "      <th>edad;horas_ejercicio;peso;estres;ingresos;horas_tv;presion_arterial</th>\n",
       "    </tr>\n",
       "  </thead>\n",
       "  <tbody>\n",
       "    <tr>\n",
       "      <th>0</th>\n",
       "      <td>58;7;81;1;21150;12;73.83</td>\n",
       "    </tr>\n",
       "    <tr>\n",
       "      <th>1</th>\n",
       "      <td>48;2;55;1;94740;22;82.26</td>\n",
       "    </tr>\n",
       "    <tr>\n",
       "      <th>2</th>\n",
       "      <td>34;2;81;3;86617;24;90.47</td>\n",
       "    </tr>\n",
       "    <tr>\n",
       "      <th>3</th>\n",
       "      <td>62;0;53;6;36896;34;93.49</td>\n",
       "    </tr>\n",
       "    <tr>\n",
       "      <th>4</th>\n",
       "      <td>27;4;60;7;66175;29;65.74</td>\n",
       "    </tr>\n",
       "  </tbody>\n",
       "</table>\n",
       "</div>"
      ],
      "text/plain": [
       "  edad;horas_ejercicio;peso;estres;ingresos;horas_tv;presion_arterial\n",
       "0                           58;7;81;1;21150;12;73.83                 \n",
       "1                           48;2;55;1;94740;22;82.26                 \n",
       "2                           34;2;81;3;86617;24;90.47                 \n",
       "3                           62;0;53;6;36896;34;93.49                 \n",
       "4                           27;4;60;7;66175;29;65.74                 "
      ]
     },
     "metadata": {},
     "output_type": "display_data"
    }
   ],
   "source": [
    "display(df.head())"
   ]
  },
  {
   "cell_type": "markdown",
   "id": "955402f4-63c0-49c5-b6c6-6b3bc5ca4ef6",
   "metadata": {},
   "source": [
    "# Se delimita por ; para poder ver visualizar mejor lo datos del data set usando (sep=\";\")"
   ]
  },
  {
   "cell_type": "code",
   "execution_count": 35,
   "id": "3c1a6830-2c41-4999-851b-7b6eed7e7a1c",
   "metadata": {},
   "outputs": [],
   "source": [
    "df = pd.read_csv(\"dataset_regresion_multiple.csv\",encoding= \"ISO-8859-1\", sep=\";\")"
   ]
  },
  {
   "cell_type": "markdown",
   "id": "79ccf415-936a-40c3-9f37-0b0980e69afa",
   "metadata": {},
   "source": [
    "# Describir el dataset (medias, máximos, mínimos, correlaciones)"
   ]
  },
  {
   "cell_type": "code",
   "execution_count": 75,
   "id": "32d20f22-ecd3-42cd-938b-20a0cb0f3a1c",
   "metadata": {},
   "outputs": [
    {
     "name": "stdout",
     "output_type": "stream",
     "text": [
      "Datos del data set\n"
     ]
    },
    {
     "data": {
      "text/html": [
       "<div>\n",
       "<style scoped>\n",
       "    .dataframe tbody tr th:only-of-type {\n",
       "        vertical-align: middle;\n",
       "    }\n",
       "\n",
       "    .dataframe tbody tr th {\n",
       "        vertical-align: top;\n",
       "    }\n",
       "\n",
       "    .dataframe thead th {\n",
       "        text-align: right;\n",
       "    }\n",
       "</style>\n",
       "<table border=\"1\" class=\"dataframe\">\n",
       "  <thead>\n",
       "    <tr style=\"text-align: right;\">\n",
       "      <th></th>\n",
       "      <th>edad</th>\n",
       "      <th>horas_ejercicio</th>\n",
       "      <th>peso</th>\n",
       "      <th>estres</th>\n",
       "      <th>ingresos</th>\n",
       "      <th>horas_tv</th>\n",
       "      <th>presion_arterial</th>\n",
       "    </tr>\n",
       "  </thead>\n",
       "  <tbody>\n",
       "    <tr>\n",
       "      <th>0</th>\n",
       "      <td>58</td>\n",
       "      <td>7</td>\n",
       "      <td>81</td>\n",
       "      <td>1</td>\n",
       "      <td>21150</td>\n",
       "      <td>12</td>\n",
       "      <td>73.83</td>\n",
       "    </tr>\n",
       "    <tr>\n",
       "      <th>1</th>\n",
       "      <td>48</td>\n",
       "      <td>2</td>\n",
       "      <td>55</td>\n",
       "      <td>1</td>\n",
       "      <td>94740</td>\n",
       "      <td>22</td>\n",
       "      <td>82.26</td>\n",
       "    </tr>\n",
       "    <tr>\n",
       "      <th>2</th>\n",
       "      <td>34</td>\n",
       "      <td>2</td>\n",
       "      <td>81</td>\n",
       "      <td>3</td>\n",
       "      <td>86617</td>\n",
       "      <td>24</td>\n",
       "      <td>90.47</td>\n",
       "    </tr>\n",
       "    <tr>\n",
       "      <th>3</th>\n",
       "      <td>62</td>\n",
       "      <td>0</td>\n",
       "      <td>53</td>\n",
       "      <td>6</td>\n",
       "      <td>36896</td>\n",
       "      <td>34</td>\n",
       "      <td>93.49</td>\n",
       "    </tr>\n",
       "    <tr>\n",
       "      <th>4</th>\n",
       "      <td>27</td>\n",
       "      <td>4</td>\n",
       "      <td>60</td>\n",
       "      <td>7</td>\n",
       "      <td>66175</td>\n",
       "      <td>29</td>\n",
       "      <td>65.74</td>\n",
       "    </tr>\n",
       "  </tbody>\n",
       "</table>\n",
       "</div>"
      ],
      "text/plain": [
       "   edad  horas_ejercicio  peso  estres  ingresos  horas_tv  presion_arterial\n",
       "0    58                7    81       1     21150        12             73.83\n",
       "1    48                2    55       1     94740        22             82.26\n",
       "2    34                2    81       3     86617        24             90.47\n",
       "3    62                0    53       6     36896        34             93.49\n",
       "4    27                4    60       7     66175        29             65.74"
      ]
     },
     "metadata": {},
     "output_type": "display_data"
    },
    {
     "name": "stdout",
     "output_type": "stream",
     "text": [
      "\n",
      "Descripcion del data set\n"
     ]
    },
    {
     "data": {
      "text/html": [
       "<div>\n",
       "<style scoped>\n",
       "    .dataframe tbody tr th:only-of-type {\n",
       "        vertical-align: middle;\n",
       "    }\n",
       "\n",
       "    .dataframe tbody tr th {\n",
       "        vertical-align: top;\n",
       "    }\n",
       "\n",
       "    .dataframe thead th {\n",
       "        text-align: right;\n",
       "    }\n",
       "</style>\n",
       "<table border=\"1\" class=\"dataframe\">\n",
       "  <thead>\n",
       "    <tr style=\"text-align: right;\">\n",
       "      <th></th>\n",
       "      <th>edad</th>\n",
       "      <th>horas_ejercicio</th>\n",
       "      <th>peso</th>\n",
       "      <th>estres</th>\n",
       "      <th>ingresos</th>\n",
       "      <th>horas_tv</th>\n",
       "      <th>presion_arterial</th>\n",
       "    </tr>\n",
       "  </thead>\n",
       "  <tbody>\n",
       "    <tr>\n",
       "      <th>count</th>\n",
       "      <td>100.000000</td>\n",
       "      <td>100.000000</td>\n",
       "      <td>100.00000</td>\n",
       "      <td>100.000000</td>\n",
       "      <td>100.000000</td>\n",
       "      <td>100.000000</td>\n",
       "      <td>100.000000</td>\n",
       "    </tr>\n",
       "    <tr>\n",
       "      <th>mean</th>\n",
       "      <td>41.600000</td>\n",
       "      <td>4.370000</td>\n",
       "      <td>73.28000</td>\n",
       "      <td>4.700000</td>\n",
       "      <td>59778.350000</td>\n",
       "      <td>19.760000</td>\n",
       "      <td>85.395000</td>\n",
       "    </tr>\n",
       "    <tr>\n",
       "      <th>std</th>\n",
       "      <td>13.311346</td>\n",
       "      <td>3.013957</td>\n",
       "      <td>14.29917</td>\n",
       "      <td>2.512595</td>\n",
       "      <td>23603.253158</td>\n",
       "      <td>11.136545</td>\n",
       "      <td>20.531869</td>\n",
       "    </tr>\n",
       "    <tr>\n",
       "      <th>min</th>\n",
       "      <td>20.000000</td>\n",
       "      <td>0.000000</td>\n",
       "      <td>50.00000</td>\n",
       "      <td>1.000000</td>\n",
       "      <td>20412.000000</td>\n",
       "      <td>0.000000</td>\n",
       "      <td>38.140000</td>\n",
       "    </tr>\n",
       "    <tr>\n",
       "      <th>25%</th>\n",
       "      <td>30.000000</td>\n",
       "      <td>2.000000</td>\n",
       "      <td>60.00000</td>\n",
       "      <td>3.000000</td>\n",
       "      <td>38042.000000</td>\n",
       "      <td>11.000000</td>\n",
       "      <td>72.045000</td>\n",
       "    </tr>\n",
       "    <tr>\n",
       "      <th>50%</th>\n",
       "      <td>41.500000</td>\n",
       "      <td>4.000000</td>\n",
       "      <td>73.00000</td>\n",
       "      <td>5.000000</td>\n",
       "      <td>58634.500000</td>\n",
       "      <td>18.500000</td>\n",
       "      <td>84.415000</td>\n",
       "    </tr>\n",
       "    <tr>\n",
       "      <th>75%</th>\n",
       "      <td>53.250000</td>\n",
       "      <td>7.000000</td>\n",
       "      <td>84.00000</td>\n",
       "      <td>7.000000</td>\n",
       "      <td>80475.250000</td>\n",
       "      <td>28.250000</td>\n",
       "      <td>98.465000</td>\n",
       "    </tr>\n",
       "    <tr>\n",
       "      <th>max</th>\n",
       "      <td>64.000000</td>\n",
       "      <td>9.000000</td>\n",
       "      <td>99.00000</td>\n",
       "      <td>9.000000</td>\n",
       "      <td>99605.000000</td>\n",
       "      <td>39.000000</td>\n",
       "      <td>137.270000</td>\n",
       "    </tr>\n",
       "  </tbody>\n",
       "</table>\n",
       "</div>"
      ],
      "text/plain": [
       "             edad  horas_ejercicio       peso      estres      ingresos  \\\n",
       "count  100.000000       100.000000  100.00000  100.000000    100.000000   \n",
       "mean    41.600000         4.370000   73.28000    4.700000  59778.350000   \n",
       "std     13.311346         3.013957   14.29917    2.512595  23603.253158   \n",
       "min     20.000000         0.000000   50.00000    1.000000  20412.000000   \n",
       "25%     30.000000         2.000000   60.00000    3.000000  38042.000000   \n",
       "50%     41.500000         4.000000   73.00000    5.000000  58634.500000   \n",
       "75%     53.250000         7.000000   84.00000    7.000000  80475.250000   \n",
       "max     64.000000         9.000000   99.00000    9.000000  99605.000000   \n",
       "\n",
       "         horas_tv  presion_arterial  \n",
       "count  100.000000        100.000000  \n",
       "mean    19.760000         85.395000  \n",
       "std     11.136545         20.531869  \n",
       "min      0.000000         38.140000  \n",
       "25%     11.000000         72.045000  \n",
       "50%     18.500000         84.415000  \n",
       "75%     28.250000         98.465000  \n",
       "max     39.000000        137.270000  "
      ]
     },
     "metadata": {},
     "output_type": "display_data"
    },
    {
     "name": "stdout",
     "output_type": "stream",
     "text": [
      "\n",
      "Correlaciones con presión arterial:\n",
      "presion_arterial    1.000000\n",
      "peso                0.588843\n",
      "edad                0.418731\n",
      "estres              0.366368\n",
      "horas_tv            0.040789\n",
      "ingresos           -0.009394\n",
      "horas_ejercicio    -0.358865\n",
      "Name: presion_arterial, dtype: float64\n"
     ]
    }
   ],
   "source": [
    "print(\"Datos del data set\")\n",
    "display(df.head())\n",
    "print(\"\\nDescripcion del data set\")\n",
    "display(df.describe())\n",
    "print(\"\\nCorrelaciones con presión arterial:\")\n",
    "print(df.corr()[\"presion_arterial\"].sort_values(ascending=False))"
   ]
  },
  {
   "cell_type": "markdown",
   "id": "a0bb0b63-3ad9-4f42-a1e6-0cb10f23addd",
   "metadata": {},
   "source": [
    "# Visualización de correlaciones"
   ]
  },
  {
   "cell_type": "code",
   "execution_count": 77,
   "id": "0584592d-252c-4b7e-8d1b-31fa33513ce5",
   "metadata": {},
   "outputs": [
    {
     "data": {
      "image/png": "[encoded data removed]",
      "text/plain": [
       "<Figure size 800x600 with 2 Axes>"
      ]
     },
     "metadata": {},
     "output_type": "display_data"
    }
   ],
   "source": [
    "plt.figure(figsize=(8,6))\n",
    "sns.heatmap(df.corr(), annot=True, cmap=\"coolwarm\", fmt=\".2f\")\n",
    "plt.title(\"Matriz de correlación\")\n",
    "plt.show()"
   ]
  },
  {
   "cell_type": "markdown",
   "id": "2077d03c-6654-40d8-8a9e-03b12832dbd7",
   "metadata": {},
   "source": [
    "# Modelo de regresión lineal múltiple  "
   ]
  },
  {
   "cell_type": "code",
   "execution_count": 107,
   "id": "5df9c57f-d81c-40ca-abba-71e48aabe601",
   "metadata": {},
   "outputs": [],
   "source": [
    "# Definir variables predictoras (X) y variable objetivo (y)\n",
    "\n",
    "X = df.drop(\"presion_arterial\", axis=1)\n",
    "y = df[\"presion_arterial\"]\n",
    "\n",
    "# Dividir en train/test\n",
    "X_train, X_test, y_train, y_test = train_test_split(X, y, test_size=0.2, random_state=42)\n",
    "\n",
    "# Modelo con todas las variables\n",
    "modelo = LinearRegression()\n",
    "modelo.fit(X_train, y_train)\n",
    "\n",
    "# Predicciones\n",
    "y_pred = modelo.predict(X_test)"
   ]
  },
  {
   "cell_type": "markdown",
   "id": "e1c37e56-cd62-49cc-bf25-7e9940a7c53a",
   "metadata": {},
   "source": [
    "# Evaluación del modelo:"
   ]
  },
  {
   "cell_type": "code",
   "execution_count": 109,
   "id": "7ce1f64e-5e82-4523-9cb9-e98dabb45589",
   "metadata": {},
   "outputs": [
    {
     "name": "stdout",
     "output_type": "stream",
     "text": [
      "\n",
      "Evaluación del modelo con todas las variables:\n",
      "R²: 0.708\n",
      "RMSE: 10.36\n",
      "MAE: 8.60\n"
     ]
    }
   ],
   "source": [
    "r2 = r2_score(y_test, y_pred)\n",
    "rmse = np.sqrt(mean_squared_error(y_test, y_pred))\n",
    "mae = mean_absolute_error(y_test, y_pred)\n",
    "\n",
    "print(\"\\nEvaluación del modelo con todas las variables:\")\n",
    "print(f\"R²: {r2:.3f}\")\n",
    "print(f\"RMSE: {rmse:.2f}\")\n",
    "print(f\"MAE: {mae:.2f}\")"
   ]
  },
  {
   "cell_type": "markdown",
   "id": "081f8413-1db2-4d53-b08b-fdae0183b84e",
   "metadata": {},
   "source": [
    "# Modelo simplificado con variables mas relevantes por su correlación"
   ]
  },
  {
   "cell_type": "code",
   "execution_count": 113,
   "id": "ccfd258e-347a-42dd-a4d4-8b95141fb1d3",
   "metadata": {},
   "outputs": [],
   "source": [
    "X_simple = df[[\"edad\",\"peso\",\"estres\",\"horas_ejercicio\"]]\n",
    "X_train_s, X_test_s, y_train_s, y_test_s = train_test_split(X_simple, y, test_size=0.2, random_state=42)\n",
    "\n",
    "modelo_sim = LinearRegression()\n",
    "modelo_sim.fit(X_train_s, y_train_s)\n",
    "y_pred_s = modelo_sim.predict(X_test_s)"
   ]
  },
  {
   "cell_type": "markdown",
   "id": "dd2d99be-8b12-41e8-8162-42ad83f2ada8",
   "metadata": {},
   "source": [
    "# Evaluación del modelo simple"
   ]
  },
  {
   "cell_type": "code",
   "execution_count": 117,
   "id": "fce39742-7677-4286-9f7e-5a271c2a3c0d",
   "metadata": {},
   "outputs": [
    {
     "name": "stdout",
     "output_type": "stream",
     "text": [
      "\n",
      "Evaluación del modelo simple:\n",
      "R²: 0.743\n",
      "RMSE: 9.72\n",
      "MAE: 8.23\n"
     ]
    }
   ],
   "source": [
    "r2_s = r2_score(y_test_s, y_pred_s)\n",
    "rmse_s = np.sqrt(mean_squared_error(y_test_s, y_pred_s))\n",
    "mae_s = mean_absolute_error(y_test_s, y_pred_s)\n",
    "\n",
    "print(\"\\nEvaluación del modelo simple:\")\n",
    "print(f\"R²: {r2_s:.3f}\")\n",
    "print(f\"RMSE: {rmse_s:.2f}\")\n",
    "print(f\"MAE: {mae_s:.2f}\")"
   ]
  },
  {
   "cell_type": "code",
   "execution_count": null,
   "id": "894e8108-3133-4316-9fb2-f48b9d464371",
   "metadata": {},
   "outputs": [],
   "source": []
  }
 ],
 "metadata": {
  "kernelspec": {
   "display_name": "Python 3 (ipykernel)",
   "language": "python",
   "name": "python3"
  },
  "language_info": {
   "codemirror_mode": {
    "name": "ipython",
    "version": 3
   },
   "file_extension": ".py",
   "mimetype": "text/x-python",
   "name": "python",
   "nbconvert_exporter": "python",
   "pygments_lexer": "ipython3",
   "version": "3.12.7"
  }
 },
 "nbformat": 4,
 "nbformat_minor": 5
}
