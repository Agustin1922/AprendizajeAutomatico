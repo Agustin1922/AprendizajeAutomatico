{
 "cells": [
  {
   "cell_type": "markdown",
   "id": "d30552c3-8f63-451c-896e-929a0d1e0148",
   "metadata": {},
   "source": [
    "# Ususarios de Windows, Linux y MAC"
   ]
  },
  {
   "cell_type": "code",
   "execution_count": 35,
   "id": "e1e5ac7c-f9d6-4c82-9c00-6eb72c1c1714",
   "metadata": {},
   "outputs": [],
   "source": [
    "import pandas as pd\n",
    "import numpy as np\n",
    "import matplotlib.pyplot as plt\n",
    "import seaborn as sns\n",
    "\n",
    "from sklearn.model_selection import train_test_split, StratifiedKFold, cross_val_score, GridSearchCV\n",
    "from sklearn.pipeline import Pipeline\n",
    "from sklearn.preprocessing import StandardScaler, LabelEncoder\n",
    "from sklearn.linear_model import LogisticRegression\n",
    "from sklearn.ensemble import RandomForestClassifier\n",
    "from sklearn.metrics import classification_report, confusion_matrix, accuracy_score, f1_score\n",
    "import joblib\n",
    "from imblearn.over_sampling import SMOTE\n"
   ]
  },
  {
   "cell_type": "markdown",
   "id": "d7f842ca-b4ab-4da6-9659-ff66b7aa9762",
   "metadata": {},
   "source": [
    "# CARGAR Y EXPLORAR LOS DATOS"
   ]
  },
  {
   "cell_type": "code",
   "execution_count": 49,
   "id": "adccb945-b659-4517-9bda-442a54856cad",
   "metadata": {},
   "outputs": [
    {
     "name": "stdout",
     "output_type": "stream",
     "text": [
      "Datos del data set\n"
     ]
    },
    {
     "data": {
      "text/html": [
       "<div>\n",
       "<style scoped>\n",
       "    .dataframe tbody tr th:only-of-type {\n",
       "        vertical-align: middle;\n",
       "    }\n",
       "\n",
       "    .dataframe tbody tr th {\n",
       "        vertical-align: top;\n",
       "    }\n",
       "\n",
       "    .dataframe thead th {\n",
       "        text-align: right;\n",
       "    }\n",
       "</style>\n",
       "<table border=\"1\" class=\"dataframe\">\n",
       "  <thead>\n",
       "    <tr style=\"text-align: right;\">\n",
       "      <th></th>\n",
       "      <th>duracion</th>\n",
       "      <th>paginas</th>\n",
       "      <th>acciones</th>\n",
       "      <th>valor</th>\n",
       "      <th>clase</th>\n",
       "    </tr>\n",
       "  </thead>\n",
       "  <tbody>\n",
       "    <tr>\n",
       "      <th>0</th>\n",
       "      <td>7.0</td>\n",
       "      <td>2</td>\n",
       "      <td>4</td>\n",
       "      <td>8</td>\n",
       "      <td>2</td>\n",
       "    </tr>\n",
       "    <tr>\n",
       "      <th>1</th>\n",
       "      <td>21.0</td>\n",
       "      <td>2</td>\n",
       "      <td>6</td>\n",
       "      <td>6</td>\n",
       "      <td>2</td>\n",
       "    </tr>\n",
       "    <tr>\n",
       "      <th>2</th>\n",
       "      <td>57.0</td>\n",
       "      <td>2</td>\n",
       "      <td>4</td>\n",
       "      <td>4</td>\n",
       "      <td>2</td>\n",
       "    </tr>\n",
       "    <tr>\n",
       "      <th>3</th>\n",
       "      <td>101.0</td>\n",
       "      <td>3</td>\n",
       "      <td>6</td>\n",
       "      <td>12</td>\n",
       "      <td>2</td>\n",
       "    </tr>\n",
       "    <tr>\n",
       "      <th>4</th>\n",
       "      <td>109.0</td>\n",
       "      <td>2</td>\n",
       "      <td>6</td>\n",
       "      <td>12</td>\n",
       "      <td>2</td>\n",
       "    </tr>\n",
       "  </tbody>\n",
       "</table>\n",
       "</div>"
      ],
      "text/plain": [
       "   duracion  paginas  acciones  valor  clase\n",
       "0       7.0        2         4      8      2\n",
       "1      21.0        2         6      6      2\n",
       "2      57.0        2         4      4      2\n",
       "3     101.0        3         6     12      2\n",
       "4     109.0        2         6     12      2"
      ]
     },
     "metadata": {},
     "output_type": "display_data"
    },
    {
     "name": "stdout",
     "output_type": "stream",
     "text": [
      "\n",
      "Descripcion del data set\n"
     ]
    },
    {
     "data": {
      "text/html": [
       "<div>\n",
       "<style scoped>\n",
       "    .dataframe tbody tr th:only-of-type {\n",
       "        vertical-align: middle;\n",
       "    }\n",
       "\n",
       "    .dataframe tbody tr th {\n",
       "        vertical-align: top;\n",
       "    }\n",
       "\n",
       "    .dataframe thead th {\n",
       "        text-align: right;\n",
       "    }\n",
       "</style>\n",
       "<table border=\"1\" class=\"dataframe\">\n",
       "  <thead>\n",
       "    <tr style=\"text-align: right;\">\n",
       "      <th></th>\n",
       "      <th>duracion</th>\n",
       "      <th>paginas</th>\n",
       "      <th>acciones</th>\n",
       "      <th>valor</th>\n",
       "      <th>clase</th>\n",
       "    </tr>\n",
       "  </thead>\n",
       "  <tbody>\n",
       "    <tr>\n",
       "      <th>count</th>\n",
       "      <td>170.000000</td>\n",
       "      <td>170.000000</td>\n",
       "      <td>170.000000</td>\n",
       "      <td>170.000000</td>\n",
       "      <td>170.000000</td>\n",
       "    </tr>\n",
       "    <tr>\n",
       "      <th>mean</th>\n",
       "      <td>111.075729</td>\n",
       "      <td>2.041176</td>\n",
       "      <td>8.723529</td>\n",
       "      <td>32.676471</td>\n",
       "      <td>0.752941</td>\n",
       "    </tr>\n",
       "    <tr>\n",
       "      <th>std</th>\n",
       "      <td>202.453200</td>\n",
       "      <td>1.500911</td>\n",
       "      <td>9.136054</td>\n",
       "      <td>44.751993</td>\n",
       "      <td>0.841327</td>\n",
       "    </tr>\n",
       "    <tr>\n",
       "      <th>min</th>\n",
       "      <td>1.000000</td>\n",
       "      <td>1.000000</td>\n",
       "      <td>1.000000</td>\n",
       "      <td>1.000000</td>\n",
       "      <td>0.000000</td>\n",
       "    </tr>\n",
       "    <tr>\n",
       "      <th>25%</th>\n",
       "      <td>11.000000</td>\n",
       "      <td>1.000000</td>\n",
       "      <td>3.000000</td>\n",
       "      <td>8.000000</td>\n",
       "      <td>0.000000</td>\n",
       "    </tr>\n",
       "    <tr>\n",
       "      <th>50%</th>\n",
       "      <td>13.000000</td>\n",
       "      <td>2.000000</td>\n",
       "      <td>6.000000</td>\n",
       "      <td>20.000000</td>\n",
       "      <td>0.000000</td>\n",
       "    </tr>\n",
       "    <tr>\n",
       "      <th>75%</th>\n",
       "      <td>108.000000</td>\n",
       "      <td>2.000000</td>\n",
       "      <td>10.000000</td>\n",
       "      <td>36.000000</td>\n",
       "      <td>2.000000</td>\n",
       "    </tr>\n",
       "    <tr>\n",
       "      <th>max</th>\n",
       "      <td>898.000000</td>\n",
       "      <td>9.000000</td>\n",
       "      <td>63.000000</td>\n",
       "      <td>378.000000</td>\n",
       "      <td>2.000000</td>\n",
       "    </tr>\n",
       "  </tbody>\n",
       "</table>\n",
       "</div>"
      ],
      "text/plain": [
       "         duracion     paginas    acciones       valor       clase\n",
       "count  170.000000  170.000000  170.000000  170.000000  170.000000\n",
       "mean   111.075729    2.041176    8.723529   32.676471    0.752941\n",
       "std    202.453200    1.500911    9.136054   44.751993    0.841327\n",
       "min      1.000000    1.000000    1.000000    1.000000    0.000000\n",
       "25%     11.000000    1.000000    3.000000    8.000000    0.000000\n",
       "50%     13.000000    2.000000    6.000000   20.000000    0.000000\n",
       "75%    108.000000    2.000000   10.000000   36.000000    2.000000\n",
       "max    898.000000    9.000000   63.000000  378.000000    2.000000"
      ]
     },
     "metadata": {},
     "output_type": "display_data"
    },
    {
     "name": "stdout",
     "output_type": "stream",
     "text": [
      "\n",
      "Tipos de datos:\n",
      "duracion    float64\n",
      "paginas       int64\n",
      "acciones      int64\n",
      "valor         int64\n",
      "clase         int64\n",
      "dtype: object\n"
     ]
    }
   ],
   "source": [
    "df = pd.read_csv('usuarios_win_mac_lin.csv')\n",
    "print(\"Datos del data set\")\n",
    "display(df.head())\n",
    "print(\"\\nDescripcion del data set\")\n",
    "display(df.describe())\n",
    "print(\"\\nTipos de datos:\")\n",
    "print(df.dtypes)"
   ]
  },
  {
   "cell_type": "markdown",
   "id": "6f6e6491-128a-405e-96eb-1550375f43c6",
   "metadata": {},
   "source": [
    "# Revisar la variable objetivo"
   ]
  },
  {
   "cell_type": "code",
   "execution_count": 53,
   "id": "7465d06c-f4bd-4ee7-9db9-1d603e2f6b7e",
   "metadata": {},
   "outputs": [
    {
     "name": "stdout",
     "output_type": "stream",
     "text": [
      "clase\n",
      "0    86\n",
      "2    44\n",
      "1    40\n",
      "Name: count, dtype: int64\n"
     ]
    }
   ],
   "source": [
    "print(df['clase'].value_counts())"
   ]
  },
  {
   "cell_type": "markdown",
   "id": "083f3fda-a255-4f59-a346-f3f937bbd817",
   "metadata": {},
   "source": [
    "# Comprobar y mapear etiquetas"
   ]
  },
  {
   "cell_type": "code",
   "execution_count": 55,
   "id": "5c935ed3-0ea5-44df-9bfc-8ad13001ea60",
   "metadata": {},
   "outputs": [
    {
     "name": "stdout",
     "output_type": "stream",
     "text": [
      "[2 1 0]\n"
     ]
    }
   ],
   "source": [
    "print(df['clase'].unique())\n",
    "\n",
    "# Si conocés el mapeo, por ejemplo:\n",
    "mapping = {0: 'mac', 1: 'linux', 2: 'windows'}\n",
    "df['os_name'] = df['clase'].map(mapping)   # opcional, solo para reporte\n"
   ]
  },
  {
   "cell_type": "markdown",
   "id": "fefd9d7c-fffe-4a00-b4c9-2af1475e9561",
   "metadata": {},
   "source": [
    "# Limpiar datos"
   ]
  },
  {
   "cell_type": "code",
   "execution_count": 57,
   "id": "1b3998f8-73ad-4e9b-ab0c-3d0ce91b6d4c",
   "metadata": {},
   "outputs": [
    {
     "name": "stdout",
     "output_type": "stream",
     "text": [
      "duracion    0\n",
      "paginas     0\n",
      "acciones    0\n",
      "valor       0\n",
      "clase       0\n",
      "os_name     0\n",
      "dtype: int64\n"
     ]
    }
   ],
   "source": [
    "print(df.isnull().sum())  # Ver nulos\n",
    "\n",
    "for col in ['duracion','paginas','acciones','valor']: #rellenar nulos numéricos con la mediana\n",
    "    if df[col].isnull().any():\n",
    "        df[col].fillna(df[col].median(), inplace=True)\n"
   ]
  },
  {
   "cell_type": "markdown",
   "id": "cbda761a-d9a2-4243-bb57-f356fce0837a",
   "metadata": {},
   "source": [
    "# Definir modelos a probar"
   ]
  },
  {
   "cell_type": "code",
   "execution_count": 73,
   "id": "5d6f3c84-7bd9-4da3-b68e-b5ec3121f718",
   "metadata": {},
   "outputs": [],
   "source": [
    "models = {\n",
    "    'Random Forest': RandomForestClassifier(n_estimators=100, random_state=42),\n",
    "    'SVM': SVC(random_state=42),\n",
    "    'Logistic Regression': LogisticRegression(random_state=42, max_iter=1000)\n",
    "}"
   ]
  },
  {
   "cell_type": "markdown",
   "id": "2f550251-30d8-4b55-8619-5d3d8b521aaa",
   "metadata": {},
   "source": [
    "# Entrenar y evaluar cada modelo"
   ]
  },
  {
   "cell_type": "code",
   "execution_count": 75,
   "id": "866b2bf1-560b-4244-ac40-5bfba0b0c445",
   "metadata": {},
   "outputs": [
    {
     "name": "stdout",
     "output_type": "stream",
     "text": [
      "\n",
      "--- Random Forest ---\n",
      "Precisión: 0.7647\n",
      "Validación cruzada - Media: 0.6759 (+/- 0.1681)\n",
      "\n",
      "--- SVM ---\n",
      "Precisión: 0.6765\n",
      "Validación cruzada - Media: 0.5074 (+/- 0.0983)\n",
      "\n",
      "--- Logistic Regression ---\n",
      "Precisión: 0.7059\n",
      "Validación cruzada - Media: 0.6394 (+/- 0.0901)\n"
     ]
    }
   ],
   "source": [
    "results = {}\n",
    "for name, model in models.items():\n",
    "    print(f\"\\n--- {name} ---\")\n",
    "    \n",
    "    # Entrenar modelo\n",
    "    if name == 'Random Forest':\n",
    "        # Random Forest no necesita escalado\n",
    "        model.fit(X_train, y_train)\n",
    "        y_pred = model.predict(X_test)\n",
    "    else:\n",
    "        # SVM y Logistic Regression se benefician del escalado\n",
    "        model.fit(X_train_scaled, y_train)\n",
    "        y_pred = model.predict(X_test_scaled)\n",
    "    \n",
    "    # Calcular métricas\n",
    "    accuracy = accuracy_score(y_test, y_pred)\n",
    "    \n",
    "    print(f\"Precisión: {accuracy:.4f}\")\n",
    "    \n",
    "    # Validación cruzada\n",
    "    if name == 'Random Forest':\n",
    "        cv_scores = cross_val_score(model, X_train, y_train, cv=5)\n",
    "    else:\n",
    "        cv_scores = cross_val_score(model, X_train_scaled, y_train, cv=5)\n",
    "    \n",
    "    print(f\"Validación cruzada - Media: {cv_scores.mean():.4f} (+/- {cv_scores.std() * 2:.4f})\")\n",
    "    \n",
    "    # Guardar resultados\n",
    "    results[name] = {\n",
    "        'accuracy': accuracy,\n",
    "        'cv_mean': cv_scores.mean(),\n",
    "        'cv_std': cv_scores.std(),\n",
    "        'predictions': y_pred\n",
    "    }"
   ]
  },
  {
   "cell_type": "markdown",
   "id": "71503532-d1cc-44ff-b3f2-275b119cbbad",
   "metadata": {},
   "source": [
    "# MEJOR MODELO con mejor precisión es Random Forest"
   ]
  },
  {
   "cell_type": "code",
   "execution_count": 77,
   "id": "e027a3f9-9714-459f-a220-25c23632343d",
   "metadata": {},
   "outputs": [
    {
     "name": "stdout",
     "output_type": "stream",
     "text": [
      "Mejor modelo: Random Forest con precisión: 0.7647\n"
     ]
    }
   ],
   "source": [
    "# Encontrar el mejor modelo\n",
    "mejor_modelo = max(results.keys(), key=lambda k: results[k]['accuracy'])\n",
    "best_accuracy = results[mejor_modelo]['accuracy']\n",
    "\n",
    "print(f\"Mejor modelo: {mejor_modelo} con precisión: {best_accuracy:.4f}\")"
   ]
  },
  {
   "cell_type": "markdown",
   "id": "8013811d-9adb-407e-b807-0d961af3bff0",
   "metadata": {},
   "source": [
    "# Reentrenar el mejor modelo"
   ]
  },
  {
   "cell_type": "code",
   "execution_count": 89,
   "id": "ebab9c88-11c4-43ee-a62b-e8dc287690a6",
   "metadata": {},
   "outputs": [
    {
     "name": "stdout",
     "output_type": "stream",
     "text": [
      "\n",
      "Matriz de Confusión:\n",
      "[[12  0  5]\n",
      " [ 3  5  0]\n",
      " [ 0  0  9]]\n",
      "# Clase 0 (Linux),\n",
      "# Clase 1 (Mac), \n",
      "# Clase 2 (Windows)\n"
     ]
    }
   ],
   "source": [
    "best_model = models[best_model_name]\n",
    "if best_model_name == 'Random Forest':\n",
    "    best_model.fit(X_train, y_train)\n",
    "    best_predictions = best_model.predict(X_test)\n",
    "else:\n",
    "    best_model.fit(X_train_scaled, y_train)\n",
    "    best_predictions = best_model.predict(X_test_scaled)\n",
    "\n",
    "# Matriz de confusión\n",
    "print(f\"\\nMatriz de Confusión:\")\n",
    "cm = confusion_matrix(y_test, best_predictions)\n",
    "print(cm)\n",
    "\n",
    "print(\"# Clase 0 (Linux),\\n# Clase 1 (Mac), \\n# Clase 2 (Windows)\")"
   ]
  },
  {
   "cell_type": "markdown",
   "id": "6c8e7c14-2085-46b3-8cd8-b80b4cd73690",
   "metadata": {},
   "source": [
    "# Reporte de clasificación"
   ]
  },
  {
   "cell_type": "code",
   "execution_count": 91,
   "id": "2e6f4e15-2cbe-4a7b-9da7-54475fa638a4",
   "metadata": {},
   "outputs": [
    {
     "name": "stdout",
     "output_type": "stream",
     "text": [
      "\n",
      "Reporte de Clasificación:\n",
      "              precision    recall  f1-score   support\n",
      "\n",
      "           0       0.80      0.71      0.75        17\n",
      "           1       1.00      0.62      0.77         8\n",
      "           2       0.64      1.00      0.78         9\n",
      "\n",
      "    accuracy                           0.76        34\n",
      "   macro avg       0.81      0.78      0.77        34\n",
      "weighted avg       0.81      0.76      0.76        34\n",
      "\n"
     ]
    }
   ],
   "source": [
    "print(f\"\\nReporte de Clasificación:\")\n",
    "if y.dtype == 'object':\n",
    "    target_names = label_encoder.classes_\n",
    "else:\n",
    "    target_names = None\n",
    "\n",
    "print(classification_report(y_test, best_predictions, target_names=target_names))\n"
   ]
  },
  {
   "cell_type": "markdown",
   "id": "dd71cec0-81d1-44bd-a042-2ac07160eeaa",
   "metadata": {},
   "source": [
    "# Visualizar matriz de confusión"
   ]
  },
  {
   "cell_type": "code",
   "execution_count": 93,
   "id": "10f786aa-6f53-4b87-9c71-80c03ad3d7f8",
   "metadata": {},
   "outputs": [
    {
     "data": {
      "image/png": "[encoded data removed]",
      "text/plain": [
       "<Figure size 800x600 with 2 Axes>"
      ]
     },
     "metadata": {},
     "output_type": "display_data"
    }
   ],
   "source": [
    "plt.figure(figsize=(8, 6))\n",
    "sns.heatmap(cm, annot=True, fmt='d', cmap='Blues', \n",
    "            xticklabels=target_names if target_names is not None else ['Clase 0', 'Clase 1', 'Clase 2'],\n",
    "            yticklabels=target_names if target_names is not None else ['Clase 0', 'Clase 1', 'Clase 2'])\n",
    "plt.title(f'Matriz de Confusión - {best_model_name}')\n",
    "plt.xlabel('Predicción')\n",
    "plt.ylabel('Valor Real')\n",
    "plt.show()"
   ]
  },
  {
   "cell_type": "code",
   "execution_count": null,
   "id": "8a930fdd-5e4d-4b12-9f11-62986e9254cb",
   "metadata": {},
   "outputs": [],
   "source": []
  }
 ],
 "metadata": {
  "kernelspec": {
   "display_name": "Python 3 (ipykernel)",
   "language": "python",
   "name": "python3"
  },
  "language_info": {
   "codemirror_mode": {
    "name": "ipython",
    "version": 3
   },
   "file_extension": ".py",
   "mimetype": "text/x-python",
   "name": "python",
   "nbconvert_exporter": "python",
   "pygments_lexer": "ipython3",
   "version": "3.12.7"
  }
 },
 "nbformat": 4,
 "nbformat_minor": 5
}
