{
 "cells": [
  {
   "cell_type": "markdown",
   "id": "bd02768b-ae47-44bd-92d4-0b926589f34f",
   "metadata": {},
   "source": [
    "# PBI Clase 4"
   ]
  },
  {
   "cell_type": "code",
   "execution_count": 39,
   "id": "da6488a1-f4a9-45f6-a025-3a7432a3a471",
   "metadata": {},
   "outputs": [],
   "source": [
    "import pandas as pd\n",
    "import numpy as np\n",
    "import matplotlib.pyplot as plt\n",
    "import seaborn as sns\n",
    "\n",
    "from sklearn.model_selection import train_test_split\n",
    "from sklearn.linear_model import LinearRegression\n",
    "from sklearn.metrics import mean_squared_error, mean_absolute_error, r2_score\n",
    "\n",
    "df[\"PIB_Mundial\"] = df.iloc[:, 2:].sum(axis=1)\n"
   ]
  },
  {
   "cell_type": "code",
   "execution_count": 57,
   "id": "6fa140c9-2fd2-4de5-9389-e71a528b5889",
   "metadata": {},
   "outputs": [],
   "source": [
    "df = pd.read_csv(\"pib_banco_mundial_50.csv\",sep=\";\")"
   ]
  },
  {
   "cell_type": "code",
   "execution_count": 67,
   "id": "b659d1f1-954c-4612-8bfd-781271a53f48",
   "metadata": {},
   "outputs": [
    {
     "name": "stdout",
     "output_type": "stream",
     "text": [
      "Datos del data set\n"
     ]
    },
    {
     "data": {
      "text/html": [
       "<div>\n",
       "<style scoped>\n",
       "    .dataframe tbody tr th:only-of-type {\n",
       "        vertical-align: middle;\n",
       "    }\n",
       "\n",
       "    .dataframe tbody tr th {\n",
       "        vertical-align: top;\n",
       "    }\n",
       "\n",
       "    .dataframe thead th {\n",
       "        text-align: right;\n",
       "    }\n",
       "</style>\n",
       "<table border=\"1\" class=\"dataframe\">\n",
       "  <thead>\n",
       "    <tr style=\"text-align: right;\">\n",
       "      <th></th>\n",
       "      <th>Country Name</th>\n",
       "      <th>Country Code</th>\n",
       "      <th>2019</th>\n",
       "      <th>2020</th>\n",
       "      <th>2021</th>\n",
       "      <th>2022</th>\n",
       "      <th>2023</th>\n",
       "    </tr>\n",
       "  </thead>\n",
       "  <tbody>\n",
       "    <tr>\n",
       "      <th>0</th>\n",
       "      <td>Argentina</td>\n",
       "      <td>ARG</td>\n",
       "      <td>1.492100e+12</td>\n",
       "      <td>5.090000e+11</td>\n",
       "      <td>2.781000e+11</td>\n",
       "      <td>7.350000e+11</td>\n",
       "      <td>1.361300e+12</td>\n",
       "    </tr>\n",
       "    <tr>\n",
       "      <th>1</th>\n",
       "      <td>Brazil</td>\n",
       "      <td>BRA</td>\n",
       "      <td>8.961000e+11</td>\n",
       "      <td>2.279500e+12</td>\n",
       "      <td>1.978400e+12</td>\n",
       "      <td>1.322700e+12</td>\n",
       "      <td>1.234500e+12</td>\n",
       "    </tr>\n",
       "    <tr>\n",
       "      <th>2</th>\n",
       "      <td>United States</td>\n",
       "      <td>USA</td>\n",
       "      <td>2.164700e+12</td>\n",
       "      <td>6.277000e+11</td>\n",
       "      <td>6.323000e+11</td>\n",
       "      <td>1.705900e+12</td>\n",
       "      <td>1.531200e+12</td>\n",
       "    </tr>\n",
       "    <tr>\n",
       "      <th>3</th>\n",
       "      <td>China</td>\n",
       "      <td>CHN</td>\n",
       "      <td>8.600000e+09</td>\n",
       "      <td>1.491000e+11</td>\n",
       "      <td>1.204200e+12</td>\n",
       "      <td>2.200000e+12</td>\n",
       "      <td>9.592000e+11</td>\n",
       "    </tr>\n",
       "    <tr>\n",
       "      <th>4</th>\n",
       "      <td>India</td>\n",
       "      <td>IND</td>\n",
       "      <td>8.261000e+11</td>\n",
       "      <td>1.537000e+12</td>\n",
       "      <td>2.098200e+12</td>\n",
       "      <td>2.001300e+12</td>\n",
       "      <td>1.486400e+12</td>\n",
       "    </tr>\n",
       "  </tbody>\n",
       "</table>\n",
       "</div>"
      ],
      "text/plain": [
       "    Country Name Country Code          2019          2020          2021  \\\n",
       "0      Argentina          ARG  1.492100e+12  5.090000e+11  2.781000e+11   \n",
       "1         Brazil          BRA  8.961000e+11  2.279500e+12  1.978400e+12   \n",
       "2  United States          USA  2.164700e+12  6.277000e+11  6.323000e+11   \n",
       "3          China          CHN  8.600000e+09  1.491000e+11  1.204200e+12   \n",
       "4          India          IND  8.261000e+11  1.537000e+12  2.098200e+12   \n",
       "\n",
       "           2022          2023  \n",
       "0  7.350000e+11  1.361300e+12  \n",
       "1  1.322700e+12  1.234500e+12  \n",
       "2  1.705900e+12  1.531200e+12  \n",
       "3  2.200000e+12  9.592000e+11  \n",
       "4  2.001300e+12  1.486400e+12  "
      ]
     },
     "metadata": {},
     "output_type": "display_data"
    },
    {
     "name": "stdout",
     "output_type": "stream",
     "text": [
      "\n",
      "Descripcion del data set\n"
     ]
    },
    {
     "data": {
      "text/html": [
       "<div>\n",
       "<style scoped>\n",
       "    .dataframe tbody tr th:only-of-type {\n",
       "        vertical-align: middle;\n",
       "    }\n",
       "\n",
       "    .dataframe tbody tr th {\n",
       "        vertical-align: top;\n",
       "    }\n",
       "\n",
       "    .dataframe thead th {\n",
       "        text-align: right;\n",
       "    }\n",
       "</style>\n",
       "<table border=\"1\" class=\"dataframe\">\n",
       "  <thead>\n",
       "    <tr style=\"text-align: right;\">\n",
       "      <th></th>\n",
       "      <th>2019</th>\n",
       "      <th>2020</th>\n",
       "      <th>2021</th>\n",
       "      <th>2022</th>\n",
       "      <th>2023</th>\n",
       "    </tr>\n",
       "  </thead>\n",
       "  <tbody>\n",
       "    <tr>\n",
       "      <th>count</th>\n",
       "      <td>5.100000e+01</td>\n",
       "      <td>5.100000e+01</td>\n",
       "      <td>5.100000e+01</td>\n",
       "      <td>5.100000e+01</td>\n",
       "      <td>5.100000e+01</td>\n",
       "    </tr>\n",
       "    <tr>\n",
       "      <th>mean</th>\n",
       "      <td>2.297086e+12</td>\n",
       "      <td>2.530067e+12</td>\n",
       "      <td>2.420443e+12</td>\n",
       "      <td>2.506341e+12</td>\n",
       "      <td>2.724741e+12</td>\n",
       "    </tr>\n",
       "    <tr>\n",
       "      <th>std</th>\n",
       "      <td>8.074134e+12</td>\n",
       "      <td>8.891849e+12</td>\n",
       "      <td>8.499300e+12</td>\n",
       "      <td>8.794686e+12</td>\n",
       "      <td>9.552498e+12</td>\n",
       "    </tr>\n",
       "    <tr>\n",
       "      <th>min</th>\n",
       "      <td>8.600000e+09</td>\n",
       "      <td>1.150000e+10</td>\n",
       "      <td>2.860000e+10</td>\n",
       "      <td>4.290000e+10</td>\n",
       "      <td>2.170000e+10</td>\n",
       "    </tr>\n",
       "    <tr>\n",
       "      <th>25%</th>\n",
       "      <td>4.702000e+11</td>\n",
       "      <td>5.225500e+11</td>\n",
       "      <td>6.608000e+11</td>\n",
       "      <td>7.343000e+11</td>\n",
       "      <td>1.185300e+12</td>\n",
       "    </tr>\n",
       "    <tr>\n",
       "      <th>50%</th>\n",
       "      <td>1.230300e+12</td>\n",
       "      <td>1.399400e+12</td>\n",
       "      <td>1.356700e+12</td>\n",
       "      <td>1.330500e+12</td>\n",
       "      <td>1.479800e+12</td>\n",
       "    </tr>\n",
       "    <tr>\n",
       "      <th>75%</th>\n",
       "      <td>1.904900e+12</td>\n",
       "      <td>2.160050e+12</td>\n",
       "      <td>1.846400e+12</td>\n",
       "      <td>1.856800e+12</td>\n",
       "      <td>1.807000e+12</td>\n",
       "    </tr>\n",
       "    <tr>\n",
       "      <th>max</th>\n",
       "      <td>5.857570e+13</td>\n",
       "      <td>6.451670e+13</td>\n",
       "      <td>6.172130e+13</td>\n",
       "      <td>6.391170e+13</td>\n",
       "      <td>6.948090e+13</td>\n",
       "    </tr>\n",
       "  </tbody>\n",
       "</table>\n",
       "</div>"
      ],
      "text/plain": [
       "               2019          2020          2021          2022          2023\n",
       "count  5.100000e+01  5.100000e+01  5.100000e+01  5.100000e+01  5.100000e+01\n",
       "mean   2.297086e+12  2.530067e+12  2.420443e+12  2.506341e+12  2.724741e+12\n",
       "std    8.074134e+12  8.891849e+12  8.499300e+12  8.794686e+12  9.552498e+12\n",
       "min    8.600000e+09  1.150000e+10  2.860000e+10  4.290000e+10  2.170000e+10\n",
       "25%    4.702000e+11  5.225500e+11  6.608000e+11  7.343000e+11  1.185300e+12\n",
       "50%    1.230300e+12  1.399400e+12  1.356700e+12  1.330500e+12  1.479800e+12\n",
       "75%    1.904900e+12  2.160050e+12  1.846400e+12  1.856800e+12  1.807000e+12\n",
       "max    5.857570e+13  6.451670e+13  6.172130e+13  6.391170e+13  6.948090e+13"
      ]
     },
     "metadata": {},
     "output_type": "display_data"
    },
    {
     "name": "stdout",
     "output_type": "stream",
     "text": [
      "\n",
      "Tipos de datos:\n",
      "Country Name     object\n",
      "Country Code     object\n",
      "2019            float64\n",
      "2020            float64\n",
      "2021            float64\n",
      "2022            float64\n",
      "2023            float64\n",
      "dtype: object\n"
     ]
    }
   ],
   "source": [
    "print(\"Datos del data set\")\n",
    "display(df.head())\n",
    "print(\"\\nDescripcion del data set\")\n",
    "display(df.describe())\n",
    "print(\"\\nTipos de datos:\")\n",
    "print(df.dtypes)"
   ]
  },
  {
   "cell_type": "markdown",
   "id": "cb5663af-f674-4967-9e56-4f92d21c4681",
   "metadata": {},
   "source": [
    "# Limpieza de datos"
   ]
  },
  {
   "cell_type": "code",
   "execution_count": 87,
   "id": "71e5b818-ad3b-478b-9eb9-6db1f2473f46",
   "metadata": {},
   "outputs": [
    {
     "name": "stdout",
     "output_type": "stream",
     "text": [
      "\n",
      "DataFrame numérico:\n",
      "                       2019          2020          2021          2022  \\\n",
      "Country Name                                                            \n",
      "Argentina      1.492100e+12  5.090000e+11  2.781000e+11  7.350000e+11   \n",
      "Brazil         8.961000e+11  2.279500e+12  1.978400e+12  1.322700e+12   \n",
      "United States  2.164700e+12  6.277000e+11  6.323000e+11  1.705900e+12   \n",
      "China          8.600000e+09  1.491000e+11  1.204200e+12  2.200000e+12   \n",
      "India          8.261000e+11  1.537000e+12  2.098200e+12  2.001300e+12   \n",
      "\n",
      "                       2023  \n",
      "Country Name                 \n",
      "Argentina      1.361300e+12  \n",
      "Brazil         1.234500e+12  \n",
      "United States  1.531200e+12  \n",
      "China          9.592000e+11  \n",
      "India          1.486400e+12  \n"
     ]
    }
   ],
   "source": [
    "years = ['2019', '2020', '2021', '2022', '2023']\n",
    "df_numeric = df[years].copy()\n",
    "\n",
    "\n",
    "for year in years:          # Convertir a numeric\n",
    "    df_numeric[year] = pd.to_numeric(df_numeric[year], errors='coerce')\n",
    "\n",
    "\n",
    "df_numeric.index = df['Country Name'] # Agregar nombres de países como índice para referencia\n",
    "\n",
    "print(\"\\nDataFrame numérico:\")\n",
    "print(df_numeric.head())"
   ]
  },
  {
   "cell_type": "markdown",
   "id": "de4dcc51-af82-49c4-b008-9b7f665a4b51",
   "metadata": {},
   "source": [
    "# Extraer el PBI mundial"
   ]
  },
  {
   "cell_type": "code",
   "execution_count": 103,
   "id": "7a44b2b9-9915-4f9f-ba50-5c53f506fadc",
   "metadata": {},
   "outputs": [
    {
     "name": "stdout",
     "output_type": "stream",
     "text": [
      "\n",
      "PIB Mundial (datos oficiales):\n",
      "2019    5.857570e+13\n",
      "2020    6.451670e+13\n",
      "2021    6.172130e+13\n",
      "2022    6.391170e+13\n",
      "2023    6.948090e+13\n",
      "Name: 50, dtype: float64\n"
     ]
    }
   ],
   "source": [
    "world_row = df[df['Country Name'] == 'World']\n",
    "if not world_row.empty:\n",
    "    pib_mundial = world_row[years].iloc[0]\n",
    "    print(\"\\nPIB Mundial (datos oficiales):\")\n",
    "    print(pib_mundial)\n",
    "    \n",
    "    # Eliminar 'World' del dataframe de países para el análisis\n",
    "    df_paises = df[df['Country Name'] != 'World'].copy()\n",
    "    df_numeric_paises = df_paises[years].copy()\n",
    "    \n",
    "    # Convertir a numeric\n",
    "    for year in years:\n",
    "        df_numeric_paises[year] = pd.to_numeric(df_numeric_paises[year], errors='coerce')\n",
    "    \n",
    "    # Agregar nombres de países como índice\n",
    "    df_numeric_paises.index = df_paises['Country Name']\n",
    "    \n",
    "else:\n",
    "    print(\"No se encontró la fila World\")\n",
    "    print(\"Calculando PIB mundial \")\n",
    "    pib_mundial = df_numeric.sum()\n",
    "    df_numeric_paises = df_numeric.copy()"
   ]
  },
  {
   "cell_type": "code",
   "execution_count": 105,
   "id": "7e1a7672-9c6e-4667-894e-dd3491356379",
   "metadata": {},
   "outputs": [
    {
     "name": "stdout",
     "output_type": "stream",
     "text": [
      "\n",
      "DataFrame de países (sin World): (50, 5)\n",
      "                       2019          2020          2021          2022  \\\n",
      "Country Name                                                            \n",
      "Argentina      1.492100e+12  5.090000e+11  2.781000e+11  7.350000e+11   \n",
      "Brazil         8.961000e+11  2.279500e+12  1.978400e+12  1.322700e+12   \n",
      "United States  2.164700e+12  6.277000e+11  6.323000e+11  1.705900e+12   \n",
      "China          8.600000e+09  1.491000e+11  1.204200e+12  2.200000e+12   \n",
      "India          8.261000e+11  1.537000e+12  2.098200e+12  2.001300e+12   \n",
      "\n",
      "                       2023  \n",
      "Country Name                 \n",
      "Argentina      1.361300e+12  \n",
      "Brazil         1.234500e+12  \n",
      "United States  1.531200e+12  \n",
      "China          9.592000e+11  \n",
      "India          1.486400e+12  \n"
     ]
    }
   ],
   "source": [
    "print(f\"\\nDataFrame de países (sin World): {df_numeric_paises.shape}\")\n",
    "print(df_numeric_paises.head())"
   ]
  },
  {
   "cell_type": "markdown",
   "id": "0cc1d252-ceca-479c-b119-08f08304f50b",
   "metadata": {},
   "source": [
    "# ANÁLISIS DE CORRELACIONES"
   ]
  },
  {
   "cell_type": "code",
   "execution_count": 123,
   "id": "61db7a66-aa77-4797-a372-63a1a1b137af",
   "metadata": {},
   "outputs": [
    {
     "name": "stdout",
     "output_type": "stream",
     "text": [
      "\n",
      "Correlaciones con PIB Mundial:\n",
      "Country Name\n",
      "Chile                   0.882378\n",
      "South Korea             0.877127\n",
      "Spain                   0.839181\n",
      "Colombia                0.827016\n",
      "Vietnam                 0.758632\n",
      "Portugal                0.739286\n",
      "Finland                 0.681315\n",
      "Bolivia                 0.601279\n",
      "Japan                   0.592790\n",
      "Greece                  0.529007\n",
      "Norway                  0.479544\n",
      "Philippines             0.460323\n",
      "Poland                  0.451430\n",
      "Thailand                0.443854\n",
      "France                  0.395599\n",
      "Netherlands             0.359048\n",
      "Nigeria                 0.355809\n",
      "South Africa            0.330229\n",
      "Italy                   0.314275\n",
      "India                   0.290021\n",
      "Kenya                   0.286506\n",
      "China                   0.279320\n",
      "Russia                  0.202069\n",
      "Brazil                  0.134258\n",
      "Venezuela               0.134059\n",
      "United Kingdom          0.106473\n",
      "Argentina               0.058927\n",
      "Iran                   -0.045650\n",
      "Bangladesh             -0.046685\n",
      "Ecuador                -0.056394\n",
      "Pakistan               -0.058489\n",
      "Singapore              -0.066993\n",
      "Mexico                 -0.086484\n",
      "Czech Republic         -0.093038\n",
      "Indonesia              -0.112875\n",
      "Turkey                 -0.150847\n",
      "United States          -0.203731\n",
      "Sweden                 -0.214338\n",
      "Saudi Arabia           -0.251122\n",
      "United Arab Emirates   -0.267211\n",
      "Paraguay               -0.290790\n",
      "Uruguay                -0.297948\n",
      "Canada                 -0.351658\n",
      "Australia              -0.358699\n",
      "Denmark                -0.387537\n",
      "Egypt                  -0.436662\n",
      "Peru                   -0.475823\n",
      "Hungary                -0.618821\n",
      "Malaysia               -0.641912\n",
      "Germany                -0.803200\n",
      "Name: PIB_Mundial, dtype: float64\n",
      "\n",
      "Países más correlacionados positivamente:\n",
      "Country Name\n",
      "Chile          0.882378\n",
      "South Korea    0.877127\n",
      "Spain          0.839181\n",
      "Colombia       0.827016\n",
      "Vietnam        0.758632\n",
      "Portugal       0.739286\n",
      "Finland        0.681315\n",
      "Bolivia        0.601279\n",
      "Japan          0.592790\n",
      "Greece         0.529007\n",
      "Name: PIB_Mundial, dtype: float64\n",
      "\n",
      "Países con menor correlación o correlación negativa:\n",
      "Country Name\n",
      "Egypt      -0.436662\n",
      "Peru       -0.475823\n",
      "Hungary    -0.618821\n",
      "Malaysia   -0.641912\n",
      "Germany    -0.803200\n",
      "Name: PIB_Mundial, dtype: float64\n"
     ]
    }
   ],
   "source": [
    "df_transposed = df_numeric_paises.T\n",
    "df_transposed['PIB_Mundial'] = pib_mundial\n",
    "\n",
    "# Calcular correlaciones con PIB Mundial\n",
    "correlaciones = df_transposed.corr()['PIB_Mundial'].sort_values(ascending=False)\n",
    "print(\"\\nCorrelaciones con PIB Mundial:\")\n",
    "print(correlaciones.drop('PIB_Mundial'))  # Excluir la correlación consigo mismo\n",
    "\n",
    "# IDENTIFICAR PAÍSES MÁS CORRELACIONADOS\n",
    "print(\"\\nPaíses más correlacionados positivamente:\")\n",
    "top_positive = correlaciones_sin_mundial[correlaciones_sin_mundial > 0].head(10)\n",
    "print(top_positive)\n",
    "\n",
    "print(\"\\nPaíses con menor correlación o correlación negativa:\")\n",
    "bottom_correlations = correlaciones_sin_mundial.tail(5)\n",
    "print(bottom_correlations)\n"
   ]
  },
  {
   "cell_type": "markdown",
   "id": "9aa59736-824d-4e07-b7a3-72ebb096d841",
   "metadata": {},
   "source": [
    "# Visualizar correlaciones"
   ]
  },
  {
   "cell_type": "code",
   "execution_count": 125,
   "id": "57a6581b-9216-4923-b126-58ae4e4a96ba",
   "metadata": {},
   "outputs": [
    {
     "data": {
      "image/png": "[encoded data removed]",
      "text/plain": [
       "<Figure size 1200x800 with 1 Axes>"
      ]
     },
     "metadata": {},
     "output_type": "display_data"
    }
   ],
   "source": [
    "plt.figure(figsize=(12, 8))\n",
    "correlaciones_sin_mundial = correlaciones.drop('PIB_Mundial')\n",
    "colors = ['red' if x < 0 else 'green' for x in correlaciones_sin_mundial.values]\n",
    "plt.barh(range(len(correlaciones_sin_mundial)), correlaciones_sin_mundial.values, color=colors, alpha=0.7)\n",
    "plt.yticks(range(len(correlaciones_sin_mundial)), correlaciones_sin_mundial.index, rotation=0)\n",
    "plt.xlabel('Correlación con PIB Mundial')\n",
    "plt.title('Correlaciones entre PIB de cada país y PIB Mundial')\n",
    "plt.axvline(x=0, color='black', linestyle='-', alpha=0.3)\n",
    "plt.tight_layout()\n",
    "plt.show()"
   ]
  },
  {
   "cell_type": "markdown",
   "id": "9309c8fc-445b-4166-be29-e9a89b0fc109",
   "metadata": {},
   "source": [
    "# MODELOS PREDICTIVOS"
   ]
  },
  {
   "cell_type": "code",
   "execution_count": 127,
   "id": "201d15f3-4c8c-491f-b244-efc66bf66a79",
   "metadata": {},
   "outputs": [
    {
     "name": "stdout",
     "output_type": "stream",
     "text": [
      "Datos disponibles: 5 observaciones (años)\n",
      "Variables predictoras: 50 países\n"
     ]
    }
   ],
   "source": [
    "X = df_transposed.drop('PIB_Mundial', axis=1)\n",
    "y = df_transposed['PIB_Mundial']\n",
    "\n",
    "print(f\"Datos disponibles: {len(y)} observaciones (años)\")\n",
    "print(f\"Variables predictoras: {X.shape[1]} países\")"
   ]
  },
  {
   "cell_type": "markdown",
   "id": "67beaffa-470e-47aa-80f6-4a3d0565c15b",
   "metadata": {},
   "source": [
    "# Evaluar combinaciones de países"
   ]
  },
  {
   "cell_type": "code",
   "execution_count": 129,
   "id": "93cf123e-a4e4-43ca-aad4-fc545a1f3a67",
   "metadata": {},
   "outputs": [],
   "source": [
    "def evaluar_combinacion(paises, X, y, nombre_modelo=\"\"):\n",
    "    \"\"\"Evalua qué tan bien un conjunto de países predice el PIB mundial\"\"\"\n",
    "    if len(paises) == 0:\n",
    "        return None\n",
    "    \n",
    "    X_subset = X[list(paises)]\n",
    "    \n",
    "    \n",
    "    if len(y) <= 5:\n",
    "        \n",
    "        model = LinearRegression()\n",
    "        model.fit(X_subset, y)\n",
    "        y_pred = model.predict(X_subset)\n",
    "        r2 = r2_score(y, y_pred)\n",
    "        mse = mean_squared_error(y, y_pred)\n",
    "    else:\n",
    "        \n",
    "        X_train, X_test, y_train, y_test = train_test_split(X_subset, y, test_size=0.2, random_state=42)\n",
    "        model = LinearRegression()\n",
    "        model.fit(X_train, y_train)\n",
    "        y_pred = model.predict(X_test)\n",
    "        r2 = r2_score(y_test, y_pred)\n",
    "        mse = mean_squared_error(y_test, y_pred)\n",
    "    \n",
    "    return {\n",
    "        'paises': paises,\n",
    "        'r2': r2,\n",
    "        'mse': mse,\n",
    "        'n_paises': len(paises),\n",
    "        'modelo': model,\n",
    "        'nombre': nombre_modelo\n",
    "    }"
   ]
  },
  {
   "cell_type": "markdown",
   "id": "f648aec0-d759-40bb-a287-55cacbf33ea8",
   "metadata": {},
   "source": [
    "# MODELOS "
   ]
  },
  {
   "cell_type": "code",
   "execution_count": 145,
   "id": "d0220247-0699-47e3-8344-c5f4dff5f8d9",
   "metadata": {},
   "outputs": [],
   "source": [
    "resultados = []\n",
    "# Modelo 1: Solo Argentina\n",
    "result = evaluar_combinacion(['Argentina'], X, y, \"Solo Argentina\")\n",
    "if result: resultados.append(result)\n",
    "\n",
    "# Modelo 2: Argentina + Brasil\n",
    "result = evaluar_combinacion(['Argentina', 'Brazil'], X, y, \"Argentina + Brasil\")\n",
    "if result: resultados.append(result)\n",
    "\n",
    "# Modelo 3: Argentina + Brasil + Australia\n",
    "result = evaluar_combinacion(['Argentina', 'Brazil', 'Australia'], X, y, \"Argentina + Brasil + Australia\")\n",
    "if result: resultados.append(result)\n",
    "\n",
    "# Modelo 4: Top 3 países más correlacionados\n",
    "top_3_paises = top_positive.head(3).index.tolist()\n",
    "result = evaluar_combinacion(top_3_paises, X, y, f\"Top 3 correlacionados: {', '.join(top_3_paises)}\")\n",
    "if result: resultados.append(result)\n",
    "\n",
    "# Modelo 5: Top 5 países más correlacionados\n",
    "top_5_paises = top_positive.head(5).index.tolist()\n",
    "result = evaluar_combinacion(top_5_paises, X, y, f\"Top 5 correlacionados\")\n",
    "if result: resultados.append(result)\n",
    "\n",
    "# Modelo 6: Países con economías grandes (ejemplo)\n",
    "grandes_economias = ['United States', 'China', 'Germany', 'Japan']\n",
    "grandes_disponibles = [p for p in grandes_economias if p in X.columns]\n",
    "if grandes_disponibles:\n",
    "    result = evaluar_combinacion(grandes_disponibles, X, y, f\"Grandes economías\")\n",
    "    if result: resultados.append(result)\n",
    "\n",
    "# Modelo 7: Combinación de Latinoamérica\n",
    "latam_paises = ['Argentina', 'Brazil', 'Mexico', 'Chile', 'Colombia', 'Peru']\n",
    "latam_disponibles = [p for p in latam_paises if p in X.columns]\n",
    "if latam_disponibles:\n",
    "    result = evaluar_combinacion(latam_disponibles, X, y, \"Países Latinoamericanos\")\n",
    "    if result: resultados.append(result)\n"
   ]
  },
  {
   "cell_type": "markdown",
   "id": "a2ad2428-d5a0-4f56-8873-1b3d8dcbb2e8",
   "metadata": {},
   "source": [
    "# Resultados"
   ]
  },
  {
   "cell_type": "code",
   "execution_count": 147,
   "id": "e79683ea-e18a-4790-b192-a8f94584dc92",
   "metadata": {},
   "outputs": [
    {
     "name": "stdout",
     "output_type": "stream",
     "text": [
      "Top 5 correlacionados               1.0000   2.44e-05   5         \n",
      "Grandes economías                   1.0000   1.22e-05   4         \n",
      "Países Latinoamericanos             1.0000   0.00e+00   6         \n",
      "Top 3 correlacionados: Chile, South Korea, Spain 0.8281   2.21e+24   3         \n",
      "Argentina + Brasil + Australia      0.3510   8.34e+24   3         \n",
      "Argentina + Brasil                  0.1424   1.10e+25   2         \n",
      "Solo Argentina                      0.0035   1.28e+25   1         \n"
     ]
    }
   ],
   "source": [
    "for resultado in sorted(resultados, key=lambda x: x['r2'], reverse=True):\n",
    "    print(f\"{resultado['nombre']:<35} {resultado['r2']:.4f}   {resultado['mse']:.2e}   {resultado['n_paises']:<10}\")"
   ]
  },
  {
   "cell_type": "code",
   "execution_count": 155,
   "id": "9b07beed-b8d8-4267-8bdf-15ff1ea69436",
   "metadata": {},
   "outputs": [
    {
     "name": "stdout",
     "output_type": "stream",
     "text": [
      "MEJOR MODELO\n",
      "Modelo: Top 5 correlacionados\n",
      "Países incluidos: Chile, South Korea, Spain, Colombia, Vietnam\n",
      "R² Score: 1.0000\n",
      "MSE: 2.44e-05\n"
     ]
    }
   ],
   "source": [
    "mejor_modelo = max(resultados, key=lambda x: x['r2'])\n",
    "print(\"MEJOR MODELO\")\n",
    "print(f\"Modelo: {mejor_modelo['nombre']}\")\n",
    "print(f\"Países incluidos: {', '.join(mejor_modelo['paises'])}\")\n",
    "print(f\"R² Score: {mejor_modelo['r2']:.4f}\")\n",
    "print(f\"MSE: {mejor_modelo['mse']:.2e}\")"
   ]
  }
 ],
 "metadata": {
  "kernelspec": {
   "display_name": "Python 3 (ipykernel)",
   "language": "python",
   "name": "python3"
  },
  "language_info": {
   "codemirror_mode": {
    "name": "ipython",
    "version": 3
   },
   "file_extension": ".py",
   "mimetype": "text/x-python",
   "name": "python",
   "nbconvert_exporter": "python",
   "pygments_lexer": "ipython3",
   "version": "3.12.7"
  }
 },
 "nbformat": 4,
 "nbformat_minor": 5
}
